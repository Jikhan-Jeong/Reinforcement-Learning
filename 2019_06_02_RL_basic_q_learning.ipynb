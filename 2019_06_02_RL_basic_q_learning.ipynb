{
 "cells": [
  {
   "cell_type": "markdown",
   "metadata": {},
   "source": [
    "# 2019_06_02 Reinforcement Learning Basic 1"
   ]
  },
  {
   "cell_type": "markdown",
   "metadata": {},
   "source": [
    "* Name : Jikhan Jeong\n",
    "* Reference:  https://hunkim.github.io/ml/\n",
    "* Q-learning in grid world"
   ]
  },
  {
   "cell_type": "code",
   "execution_count": 9,
   "metadata": {},
   "outputs": [],
   "source": [
    "import gym\n",
    "import numpy as np\n",
    "import matplotlib.pyplot as plt\n",
    "from gym.envs.registration import register\n",
    "import random as pr\n",
    "import sympy"
   ]
  },
  {
   "cell_type": "markdown",
   "metadata": {},
   "source": [
    "* environment setup"
   ]
  },
  {
   "cell_type": "code",
   "execution_count": 24,
   "metadata": {},
   "outputs": [],
   "source": [
    "\n",
    "# when the value is the same, ramdon selection among possible sets\n",
    "\n",
    "def rargmax(vector):\n",
    "    \"\"\"argmax that chooses randomly among eligible maxium indices. caring for the initial values (0,0,0,0)\"\"\"\n",
    "    m = np.amax(vector)\n",
    "    indices = np.nonzero(vector == m)[0]\n",
    "    return pr.choice(indices)\n",
    "\n",
    "register(\n",
    "    id='FrozenLake-v7',\n",
    "    entry_point ='gym.envs.toy_text:FrozenLakeEnv',\n",
    "    kwargs ={'map_name':'4x4',\n",
    "            'is_slippery':False} \n",
    ")\n",
    "env = gym.make('FrozenLake-v7')"
   ]
  },
  {
   "cell_type": "markdown",
   "metadata": {},
   "source": [
    "* Q algorithm"
   ]
  },
  {
   "cell_type": "code",
   "execution_count": 26,
   "metadata": {},
   "outputs": [],
   "source": [
    "from sympy import *\n",
    "init_printing(use_unicode=True)"
   ]
  },
  {
   "cell_type": "code",
   "execution_count": 31,
   "metadata": {},
   "outputs": [],
   "source": [
    "# initialize q table with zeros\n",
    "\n",
    "# making array with zeros\n",
    "Q = np.zeros([env.observation_space.n, env.action_space.n]) \n",
    "\n",
    "# how many loops, number iterations\n",
    "num_episodes = 2000\n",
    "\n",
    "# create the lists to contain total rewards and steps per episode\n",
    "\n",
    "rList=[]\n",
    "for i in range(num_episodes):\n",
    "    # reset environment and get first new obs\n",
    "    state = env.reset()\n",
    "    rAll = 0\n",
    "    done = False\n",
    "    \n",
    "    # the Q-table Learning algorithm\n",
    "    # while not -> until arrive in the terminal \n",
    "    \n",
    "    \n",
    "    while not done:\n",
    "        action = rargmax(Q[state,:])\n",
    "        \n",
    "        # if the state value of each action is the same, then moving randomly\n",
    "        # Get new state and reward from environment\n",
    "        # Deterministic Transition\n",
    "        \n",
    "        new_state, reward, done,_= env.step(action)\n",
    "        \n",
    "        # Update Q-table with new knowledge using learning rate\n",
    "        \n",
    "        Q[state, action] = reward + np.max(Q[new_state,:])\n",
    "        \n",
    "        # reward 1 means success 0 fail during 2000 iterations\n",
    "        rAll += reward \n",
    "        state = new_state\n",
    "        \n",
    "    rList.append(rAll)"
   ]
  },
  {
   "cell_type": "markdown",
   "metadata": {},
   "source": [
    "* reporting"
   ]
  },
  {
   "cell_type": "code",
   "execution_count": 32,
   "metadata": {},
   "outputs": [
    {
     "name": "stdout",
     "output_type": "stream",
     "text": [
      "Success rate0.8945\n"
     ]
    }
   ],
   "source": [
    "print(\"Success rate\" + str(sum(rList)/2000))"
   ]
  },
  {
   "cell_type": "code",
   "execution_count": 34,
   "metadata": {},
   "outputs": [
    {
     "name": "stdout",
     "output_type": "stream",
     "text": [
      "Final Q value [[0. 0. 1. 0.]\n",
      " [0. 0. 1. 0.]\n",
      " [0. 1. 0. 0.]\n",
      " [0. 0. 0. 0.]\n",
      " [0. 0. 0. 0.]\n",
      " [0. 0. 0. 0.]\n",
      " [0. 1. 0. 0.]\n",
      " [0. 0. 0. 0.]\n",
      " [0. 0. 0. 0.]\n",
      " [0. 1. 0. 0.]\n",
      " [0. 1. 0. 0.]\n",
      " [0. 0. 0. 0.]\n",
      " [0. 0. 0. 0.]\n",
      " [0. 0. 1. 0.]\n",
      " [0. 0. 1. 0.]\n",
      " [0. 0. 0. 0.]]\n"
     ]
    }
   ],
   "source": [
    "print(\"Final Q value\", Q)\n",
    "# 16 states = 4 x 4, each states has 4 possible action [r,l,up,down]"
   ]
  },
  {
   "cell_type": "code",
   "execution_count": 37,
   "metadata": {},
   "outputs": [
    {
     "data": {
      "image/png": "[encoded data removed]",
      "text/plain": [
       "<Figure size 432x288 with 1 Axes>"
      ]
     },
     "metadata": {
      "needs_background": "light"
     },
     "output_type": "display_data"
    }
   ],
   "source": [
    "plt.bar(range(len(rList)), rList, color=\"grey\")\n",
    "plt.show()"
   ]
  }
 ],
 "metadata": {
  "kernelspec": {
   "display_name": "Python 3",
   "language": "python",
   "name": "python3"
  },
  "language_info": {
   "codemirror_mode": {
    "name": "ipython",
    "version": 3
   },
   "file_extension": ".py",
   "mimetype": "text/x-python",
   "name": "python",
   "nbconvert_exporter": "python",
   "pygments_lexer": "ipython3",
   "version": "3.6.8"
  }
 },
 "nbformat": 4,
 "nbformat_minor": 2
}
